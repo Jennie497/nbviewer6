{
 "cells": [
  {
   "cell_type": "markdown",
   "metadata": {},
   "source": [
    "c331033 김윤진"
   ]
  },
  {
   "cell_type": "markdown",
   "metadata": {},
   "source": [
    "#데이터 연산"
   ]
  },
  {
   "cell_type": "code",
   "execution_count": 39,
   "metadata": {},
   "outputs": [
    {
     "name": "stdout",
     "output_type": "stream",
     "text": [
      "2+3= 5\n",
      "2.0+3= 5.0\n",
      "2.0+3.0= 5.0\n",
      "'2'+'3' = '23'\n",
      "unsupported operand type(s) for +: 'int' and 'str'\n"
     ]
    }
   ],
   "source": [
    "print(f'{2+3= }') \n",
    "print(f'{2.0+3= }')\n",
    "print(f'{2.0+3.0= }')\n",
    "print(f'{'2'+'3' = }') \n",
    "\n",
    "try:\n",
    "    print(f'{2+'3'= }')\n",
    "except Exception as e:\n",
    "    print(e)\n",
    "\n"
   ]
  },
  {
   "cell_type": "code",
   "execution_count": 40,
   "metadata": {},
   "outputs": [
    {
     "name": "stdout",
     "output_type": "stream",
     "text": [
      "2-3= -1\n",
      "2.0-3= -1.0\n",
      "2.0-3.0= -1.0\n",
      "2*3= 6\n",
      "2.0*3= 6.0\n",
      "2.0*3.0= 6.0\n",
      "2/3 = 0.6666666666666666\n",
      "2.0/3 = 0.6666666666666666\n",
      "2.0/3.0= 0.6666666666666666\n"
     ]
    }
   ],
   "source": [
    "print(f'{2-3= }')\n",
    "print(f'{2.0-3= }') \n",
    "print(f'{2.0-3.0= }')\n",
    "print(f'{2*3= }')\n",
    "print(f'{2.0*3= }')\n",
    "print(f'{2.0*3.0= }')\n",
    "print(f'{2/3 = }') \n",
    "print(f'{2.0/3 = }') \n",
    "print(f'{2.0/3.0= }') \n"
   ]
  },
  {
   "cell_type": "code",
   "execution_count": 41,
   "metadata": {},
   "outputs": [
    {
     "name": "stdout",
     "output_type": "stream",
     "text": [
      "20//3  = 6\n",
      "20%3= 2\n"
     ]
    }
   ],
   "source": [
    "print(f'{20//3  = }')\n",
    "\n",
    "print(f'{20%3= }')\n"
   ]
  },
  {
   "cell_type": "code",
   "execution_count": 42,
   "metadata": {},
   "outputs": [
    {
     "name": "stdout",
     "output_type": "stream",
     "text": [
      "2**3= 8\n"
     ]
    }
   ],
   "source": [
    "print(f'{2**3= }')"
   ]
  },
  {
   "cell_type": "code",
   "execution_count": 43,
   "metadata": {},
   "outputs": [
    {
     "name": "stdout",
     "output_type": "stream",
     "text": [
      "var_x + var_x = 'AbcAbc'\n",
      "var_y + var_y= [100, 2, 3, 100, 2, 3]\n",
      "var_x * 3= 'AbcAbcAbc'\n",
      "var_y * 3= [100, 2, 3, 100, 2, 3, 100, 2, 3]\n"
     ]
    }
   ],
   "source": [
    "var_x = 'Abc'\n",
    "var_y = [100, 2, 3]\n",
    "\n",
    "print(f'{var_x + var_x = }')\n",
    "\n",
    "print(f'{var_y + var_y= }')\n",
    "\n",
    "print(f'{var_x * 3= }')\n",
    "\n",
    "print(f'{var_y * 3= }')\n",
    "\n",
    "\n"
   ]
  },
  {
   "cell_type": "code",
   "execution_count": 44,
   "metadata": {},
   "outputs": [
    {
     "name": "stdout",
     "output_type": "stream",
     "text": [
      " 2==3 = False\n",
      " 2!=3 = True\n",
      " 2>3 = False\n",
      " 2<3 = True\n",
      " 2>=3 = False\n",
      " 2<=3 = True\n"
     ]
    }
   ],
   "source": [
    "print(f'{ 2==3 = }')\n",
    "print(f'{ 2!=3 = }')\n",
    "print(f'{ 2>3 = }')\n",
    "print(f'{ 2<3 = }')\n",
    "print(f'{ 2>=3 = }')\n",
    "print(f'{ 2<=3 = }')"
   ]
  },
  {
   "cell_type": "code",
   "execution_count": 45,
   "metadata": {},
   "outputs": [
    {
     "name": "stdout",
     "output_type": "stream",
     "text": [
      "(var_y == [1, 2, 3]) = True\n",
      "(var_y == (1, 2, 3)) = False\n",
      "(var_y == [1, 2]) = False\n",
      "(var_y != [1, 2]) = True\n",
      "(var_y > [1, 2]) = True\n",
      "(var_y < [1, 2]) = False\n"
     ]
    }
   ],
   "source": [
    "var_y = [1, 2, 3]\n",
    "\n",
    "\n",
    "print(f'{(var_y == [1, 2, 3]) = }')\n",
    "print(f'{(var_y == (1, 2, 3)) = }')\n",
    "print(f'{(var_y == [1, 2]) = }')\n",
    "print(f'{(var_y != [1, 2]) = }')\n",
    "print(f'{(var_y > [1, 2]) = }')\n",
    "print(f'{(var_y < [1, 2]) = }')"
   ]
  },
  {
   "cell_type": "code",
   "execution_count": 46,
   "metadata": {},
   "outputs": [
    {
     "data": {
      "text/plain": [
       "True"
      ]
     },
     "execution_count": 46,
     "metadata": {},
     "output_type": "execute_result"
    }
   ],
   "source": [
    "True and True"
   ]
  },
  {
   "cell_type": "code",
   "execution_count": 47,
   "metadata": {},
   "outputs": [
    {
     "name": "stdout",
     "output_type": "stream",
     "text": [
      "var_y = False\n",
      "(var_x and var_y) = False\n",
      "(var_x or var_y) = True\n",
      "(not var_x) = False\n"
     ]
    }
   ],
   "source": [
    "var_x = True\n",
    "\n",
    "var_y = (10 > 20)\n",
    "\n",
    "\n",
    "print(f'{var_y = }')\n",
    "print(f'{(var_x and var_y) = }')\n",
    "print(f'{(var_x or var_y) = }')\n",
    "print(f'{(not var_x) = }')\n"
   ]
  },
  {
   "cell_type": "code",
   "execution_count": 48,
   "metadata": {},
   "outputs": [
    {
     "name": "stdout",
     "output_type": "stream",
     "text": [
      "(2==3) and (2!=3) = False\n"
     ]
    }
   ],
   "source": [
    "print(f'{(2==3) and (2!=3) = }')"
   ]
  },
  {
   "cell_type": "code",
   "execution_count": 49,
   "metadata": {},
   "outputs": [
    {
     "name": "stdout",
     "output_type": "stream",
     "text": [
      "(1 in var_y) = True\n",
      "('1' in var_y) = False\n",
      "(4 in var_y) = False\n",
      "(1 not in var_y) = False\n",
      "(4 not in var_y) = True\n"
     ]
    }
   ],
   "source": [
    "var_y = [1, 2, 3]\n",
    "\n",
    "print(f'{(1 in var_y) = }') \n",
    "print(f'{('1' in var_y) = }')\n",
    "print(f'{(4 in var_y) = }')\n",
    "print(f'{(1 not in var_y) = }')\n",
    "print(f'{(4 not in var_y) = }')"
   ]
  },
  {
   "cell_type": "code",
   "execution_count": 50,
   "metadata": {},
   "outputs": [
    {
     "name": "stdout",
     "output_type": "stream",
     "text": [
      "(var_x- 10) = 0\n",
      "(var_x is 10) = True\n"
     ]
    },
    {
     "name": "stderr",
     "output_type": "stream",
     "text": [
      "<>:5: SyntaxWarning: \"is\" with 'int' literal. Did you mean \"==\"?\n",
      "<>:5: SyntaxWarning: \"is\" with 'int' literal. Did you mean \"==\"?\n",
      "C:\\Users\\Public\\Documents\\ESTsoft\\CreatorTemp\\ipykernel_8816\\642703113.py:5: SyntaxWarning: \"is\" with 'int' literal. Did you mean \"==\"?\n",
      "  print(f'{(var_x is 10) = }')\n"
     ]
    }
   ],
   "source": [
    "var_x = 10\n",
    "\n",
    "print(f'{(var_x- 10) = }')\n",
    "\n",
    "print(f'{(var_x is 10) = }')"
   ]
  },
  {
   "cell_type": "code",
   "execution_count": 51,
   "metadata": {},
   "outputs": [
    {
     "name": "stdout",
     "output_type": "stream",
     "text": [
      "(var_x is var_y) = False\n",
      "(var_x is var_z) = True\n",
      "(var_x is not var_y) = True\n",
      "(var_x is not var_z) = False\n"
     ]
    }
   ],
   "source": [
    "var_x = 10\n",
    "var_y = 10.0\n",
    "var_z= var_x\n",
    "\n",
    "\n",
    "print(f'{(var_x is var_y) = }')\n",
    "print(f'{(var_x is var_z) = }')\n",
    "print(f'{(var_x is not var_y) = }')\n",
    "print(f'{(var_x is not var_z) = }')\n",
    "\n",
    "\n",
    "\n"
   ]
  },
  {
   "cell_type": "code",
   "execution_count": 52,
   "metadata": {},
   "outputs": [
    {
     "name": "stdout",
     "output_type": "stream",
     "text": [
      "2\n"
     ]
    }
   ],
   "source": [
    "var_x = 1\n",
    "\n",
    "var_x += 1\n",
    "\n",
    "print(var_x)"
   ]
  },
  {
   "cell_type": "code",
   "execution_count": 53,
   "metadata": {},
   "outputs": [
    {
     "name": "stdout",
     "output_type": "stream",
     "text": [
      "11\n",
      "10\n",
      "20\n",
      "10.0\n",
      "5.0\n",
      "1.0\n",
      "1.0\n"
     ]
    }
   ],
   "source": [
    "var_x = 1\n",
    "\n",
    "var_x += 10; print(var_x)\n",
    "var_x -= 1; print(var_x)\n",
    "var_x *= 2; print(var_x)\n",
    "var_x /= 2; print(var_x)\n",
    "var_x //= 2; print(var_x)\n",
    "var_x %= 2; print(var_x)\n",
    "var_x **= 2; print(var_x)\n"
   ]
  },
  {
   "cell_type": "code",
   "execution_count": 54,
   "metadata": {},
   "outputs": [
    {
     "name": "stdout",
     "output_type": "stream",
     "text": [
      "13\n",
      "256\n",
      "True\n",
      "False\n",
      "False\n"
     ]
    }
   ],
   "source": [
    "print(2**3+5)\n",
    "print(2**(3+5))\n",
    "print(2+3 <= 4*5)\n",
    "print(not 2+3 <= 4*5)\n",
    "print(not ((2+3) <= (4*5)))\n"
   ]
  },
  {
   "cell_type": "markdown",
   "metadata": {},
   "source": [
    "# 추가학습 내용"
   ]
  },
  {
   "cell_type": "code",
   "execution_count": 55,
   "metadata": {},
   "outputs": [
    {
     "data": {
      "text/plain": [
       "3"
      ]
     },
     "execution_count": 55,
     "metadata": {},
     "output_type": "execute_result"
    }
   ],
   "source": [
    "sum([1,2])"
   ]
  },
  {
   "cell_type": "markdown",
   "metadata": {},
   "source": [
    "sum은 모든 요소를 더한 값을 반환한다."
   ]
  },
  {
   "cell_type": "markdown",
   "metadata": {},
   "source": [
    "iterable 객체에서 나누기의 의미는? [1,2,3]/3은 에러가 난다. iterable 객체에서는 덧셈과 곱셈만 사용 가능하다."
   ]
  },
  {
   "cell_type": "code",
   "execution_count": 56,
   "metadata": {},
   "outputs": [
    {
     "data": {
      "text/plain": [
       "True"
      ]
     },
     "execution_count": 56,
     "metadata": {},
     "output_type": "execute_result"
    }
   ],
   "source": [
    "2*5 > 2+5 and not 3*3 > 10"
   ]
  },
  {
   "cell_type": "markdown",
   "metadata": {},
   "source": [
    "식을 계산하면 10 > 7 → True, 9 > 10 → False이다. not False는 True이기에 True and True여서 True이다."
   ]
  },
  {
   "cell_type": "markdown",
   "metadata": {},
   "source": [
    "print(f'{ 2+'3' = }')는 에러가 난다. 2는 정수형(int) '3'는 문자열(str) \n",
    "정수(int)와 문자열(str)은 + 연산이 불가능하여 TypeError가 발생"
   ]
  },
  {
   "cell_type": "markdown",
   "metadata": {},
   "source": [
    "print(f'{ 2+ [1,2,3] = }')는 에러가 난다. 2는 정수형(int) [1, 2, 3]는 리스트(list)\n",
    "정수(int)와 리스트(list)는 + 연산이 불가능하여 TypeError 발생"
   ]
  },
  {
   "cell_type": "markdown",
   "metadata": {},
   "source": [
    "print(f'{ '123'+ [1,2,3] = }')는 에러가 난다. '123'는 문자열(str) [1, 2, 3]는 리스트(list)\n",
    "문자열(str)과 리스트(list)는 + 연산이 불가능하여 TypeError 발생."
   ]
  },
  {
   "cell_type": "code",
   "execution_count": 61,
   "metadata": {},
   "outputs": [
    {
     "name": "stdout",
     "output_type": "stream",
     "text": [
      " 2/3 =0.6667\n"
     ]
    }
   ],
   "source": [
    "print(f'{ 2/3 =:.4f}')"
   ]
  },
  {
   "cell_type": "markdown",
   "metadata": {},
   "source": [
    ":.4f는 소수점 4자리까지 표시하라는 뜻이어서 2/3의 결과 0.6666666666666666을 0.6667로 반올림하여 출력함."
   ]
  },
  {
   "cell_type": "code",
   "execution_count": 62,
   "metadata": {},
   "outputs": [
    {
     "data": {
      "text/plain": [
       "['1', '2', '3', 1, 2, 3]"
      ]
     },
     "execution_count": 62,
     "metadata": {},
     "output_type": "execute_result"
    }
   ],
   "source": [
    "list('123') + [1,2,3]"
   ]
  },
  {
   "cell_type": "markdown",
   "metadata": {},
   "source": [
    "+ 연산자는 리스트를 연결하는 역할을 함. 두 리스트가 합쳐져서 하나의 리스트가 됨."
   ]
  },
  {
   "cell_type": "code",
   "execution_count": 63,
   "metadata": {},
   "outputs": [
    {
     "data": {
      "text/plain": [
       "'123[1, 2, 3]'"
      ]
     },
     "execution_count": 63,
     "metadata": {},
     "output_type": "execute_result"
    }
   ],
   "source": [
    "'123' + str([1,2,3])"
   ]
  },
  {
   "cell_type": "markdown",
   "metadata": {},
   "source": [
    "문자열'123'과 문자열str([1,2,3])을 더하면 문자열이 이어짐"
   ]
  },
  {
   "cell_type": "code",
   "execution_count": 66,
   "metadata": {},
   "outputs": [
    {
     "name": "stdout",
     "output_type": "stream",
     "text": [
      " 2!= 3 = True\n"
     ]
    }
   ],
   "source": [
    "print(f'{ 2!= 3 = }')"
   ]
  },
  {
   "cell_type": "markdown",
   "metadata": {},
   "source": [
    "!=는 같지않다는 뜻의 연산자. 2와 3은 다르므로 True 반환됨"
   ]
  },
  {
   "cell_type": "code",
   "execution_count": 67,
   "metadata": {},
   "outputs": [
    {
     "name": "stdout",
     "output_type": "stream",
     "text": [
      "(2!= 3) = True\n"
     ]
    }
   ],
   "source": [
    "print(f'{(2!= 3) = }')"
   ]
  },
  {
   "cell_type": "markdown",
   "metadata": {},
   "source": [
    "!=는 같지않다는 뜻의 연산자. 2와 3은 다르므로 True 반환됨"
   ]
  },
  {
   "cell_type": "code",
   "execution_count": 71,
   "metadata": {},
   "outputs": [
    {
     "name": "stdout",
     "output_type": "stream",
     "text": [
      "var_y > [1,2] = True\n"
     ]
    }
   ],
   "source": [
    "var_y = [1,2,3]\n",
    "print(f'{var_y > [1,2] = }')"
   ]
  },
  {
   "cell_type": "markdown",
   "metadata": {},
   "source": [
    "[1,2,3]은 [1,2]보다 요소가 더 많아서 더 큼. (True)"
   ]
  },
  {
   "cell_type": "code",
   "execution_count": 72,
   "metadata": {},
   "outputs": [
    {
     "data": {
      "text/plain": [
       "True"
      ]
     },
     "execution_count": 72,
     "metadata": {},
     "output_type": "execute_result"
    }
   ],
   "source": [
    "[1,2,3] > [1,2,2]"
   ]
  },
  {
   "cell_type": "markdown",
   "metadata": {},
   "source": [
    "1 == 1, 2 == 2, 3 > 2여서 [1,2,3]가 더 큼."
   ]
  },
  {
   "cell_type": "code",
   "execution_count": 73,
   "metadata": {},
   "outputs": [
    {
     "data": {
      "text/plain": [
       "True"
      ]
     },
     "execution_count": 73,
     "metadata": {},
     "output_type": "execute_result"
    }
   ],
   "source": [
    "[1,2,3] > [1,2,2,3,4]"
   ]
  },
  {
   "cell_type": "markdown",
   "metadata": {},
   "source": [
    "1 == 1, 2 == 2, 3 > 2여서 [1,2,3]가 더 큼."
   ]
  },
  {
   "cell_type": "markdown",
   "metadata": {},
   "source": [
    "X += a와 X = X+a는 같은 의미임.(복합대입연산자)"
   ]
  },
  {
   "cell_type": "code",
   "execution_count": 75,
   "metadata": {},
   "outputs": [
    {
     "name": "stderr",
     "output_type": "stream",
     "text": [
      "<>:1: SyntaxWarning: \"is\" with 'int' literal. Did you mean \"==\"?\n",
      "<>:1: SyntaxWarning: \"is\" with 'int' literal. Did you mean \"==\"?\n",
      "C:\\Users\\Public\\Documents\\ESTsoft\\CreatorTemp\\ipykernel_8816\\3488692742.py:1: SyntaxWarning: \"is\" with 'int' literal. Did you mean \"==\"?\n",
      "  10 is 10.0\n"
     ]
    },
    {
     "data": {
      "text/plain": [
       "False"
      ]
     },
     "execution_count": 75,
     "metadata": {},
     "output_type": "execute_result"
    }
   ],
   "source": [
    "10 is 10.0"
   ]
  },
  {
   "cell_type": "markdown",
   "metadata": {},
   "source": [
    "정수(int)와 실수(float)는 서로 다른 객체이므로 is 비교 결과는 False"
   ]
  },
  {
   "cell_type": "code",
   "execution_count": null,
   "metadata": {},
   "outputs": [],
   "source": [
    "print(f'{var_y > [1,2] = }')"
   ]
  }
 ],
 "metadata": {
  "kernelspec": {
   "display_name": "base",
   "language": "python",
   "name": "python3"
  },
  "language_info": {
   "codemirror_mode": {
    "name": "ipython",
    "version": 3
   },
   "file_extension": ".py",
   "mimetype": "text/x-python",
   "name": "python",
   "nbconvert_exporter": "python",
   "pygments_lexer": "ipython3",
   "version": "3.12.9"
  }
 },
 "nbformat": 4,
 "nbformat_minor": 2
}
